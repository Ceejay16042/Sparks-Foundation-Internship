{
 "cells": [
  {
   "cell_type": "markdown",
   "id": "c7ec0003",
   "metadata": {},
   "source": [
    "## The Sparks Foundation\n",
    "### Name: Odufuwa Clinton Ajibola\n",
    "### Internship program: Data science and Business Analytics tasks"
   ]
  },
  {
   "cell_type": "markdown",
   "id": "eaed24ca",
   "metadata": {},
   "source": [
    "### Task 2: Prediction using Unsupervised learning (K means clustering)"
   ]
  },
  {
   "cell_type": "code",
   "execution_count": 8,
   "id": "0cfe789e",
   "metadata": {},
   "outputs": [],
   "source": [
    "#importing modules to be used\n",
    "import pandas as pd\n",
    "from sklearn.cluster import KMeans\n",
    "import sklearn.datasets as datasets\n",
    "import matplotlib.pyplot as plt"
   ]
  },
  {
   "cell_type": "code",
   "execution_count": 9,
   "id": "422417ee",
   "metadata": {},
   "outputs": [],
   "source": [
    "#reading in the data\n",
    "data = pd.read_csv('iris.csv')"
   ]
  },
  {
   "cell_type": "code",
   "execution_count": 10,
   "id": "1378e6c1",
   "metadata": {},
   "outputs": [],
   "source": [
    "#loading the iris datasets from sklearn.datsets library\n",
    "iris_data = datasets.load_iris()"
   ]
  },
  {
   "cell_type": "code",
   "execution_count": 11,
   "id": "df4cef82",
   "metadata": {
    "scrolled": true
   },
   "outputs": [
    {
     "data": {
      "text/plain": [
       "['sepal length (cm)',\n",
       " 'sepal width (cm)',\n",
       " 'petal length (cm)',\n",
       " 'petal width (cm)']"
      ]
     },
     "execution_count": 11,
     "metadata": {},
     "output_type": "execute_result"
    }
   ],
   "source": [
    "iris_data.feature_names"
   ]
  },
  {
   "cell_type": "code",
   "execution_count": 12,
   "id": "7c331260",
   "metadata": {
    "scrolled": true
   },
   "outputs": [
    {
     "data": {
      "text/html": [
       "<div>\n",
       "<style scoped>\n",
       "    .dataframe tbody tr th:only-of-type {\n",
       "        vertical-align: middle;\n",
       "    }\n",
       "\n",
       "    .dataframe tbody tr th {\n",
       "        vertical-align: top;\n",
       "    }\n",
       "\n",
       "    .dataframe thead th {\n",
       "        text-align: right;\n",
       "    }\n",
       "</style>\n",
       "<table border=\"1\" class=\"dataframe\">\n",
       "  <thead>\n",
       "    <tr style=\"text-align: right;\">\n",
       "      <th></th>\n",
       "      <th>Id</th>\n",
       "      <th>SepalLengthCm</th>\n",
       "      <th>SepalWidthCm</th>\n",
       "      <th>PetalLengthCm</th>\n",
       "      <th>PetalWidthCm</th>\n",
       "      <th>Species</th>\n",
       "    </tr>\n",
       "  </thead>\n",
       "  <tbody>\n",
       "    <tr>\n",
       "      <th>4</th>\n",
       "      <td>5</td>\n",
       "      <td>5.0</td>\n",
       "      <td>3.6</td>\n",
       "      <td>1.4</td>\n",
       "      <td>0.2</td>\n",
       "      <td>Iris-setosa</td>\n",
       "    </tr>\n",
       "    <tr>\n",
       "      <th>52</th>\n",
       "      <td>53</td>\n",
       "      <td>6.9</td>\n",
       "      <td>3.1</td>\n",
       "      <td>4.9</td>\n",
       "      <td>1.5</td>\n",
       "      <td>Iris-versicolor</td>\n",
       "    </tr>\n",
       "    <tr>\n",
       "      <th>122</th>\n",
       "      <td>123</td>\n",
       "      <td>7.7</td>\n",
       "      <td>2.8</td>\n",
       "      <td>6.7</td>\n",
       "      <td>2.0</td>\n",
       "      <td>Iris-virginica</td>\n",
       "    </tr>\n",
       "    <tr>\n",
       "      <th>0</th>\n",
       "      <td>1</td>\n",
       "      <td>5.1</td>\n",
       "      <td>3.5</td>\n",
       "      <td>1.4</td>\n",
       "      <td>0.2</td>\n",
       "      <td>Iris-setosa</td>\n",
       "    </tr>\n",
       "    <tr>\n",
       "      <th>74</th>\n",
       "      <td>75</td>\n",
       "      <td>6.4</td>\n",
       "      <td>2.9</td>\n",
       "      <td>4.3</td>\n",
       "      <td>1.3</td>\n",
       "      <td>Iris-versicolor</td>\n",
       "    </tr>\n",
       "    <tr>\n",
       "      <th>98</th>\n",
       "      <td>99</td>\n",
       "      <td>5.1</td>\n",
       "      <td>2.5</td>\n",
       "      <td>3.0</td>\n",
       "      <td>1.1</td>\n",
       "      <td>Iris-versicolor</td>\n",
       "    </tr>\n",
       "  </tbody>\n",
       "</table>\n",
       "</div>"
      ],
      "text/plain": [
       "      Id  SepalLengthCm  SepalWidthCm  PetalLengthCm  PetalWidthCm  \\\n",
       "4      5            5.0           3.6            1.4           0.2   \n",
       "52    53            6.9           3.1            4.9           1.5   \n",
       "122  123            7.7           2.8            6.7           2.0   \n",
       "0      1            5.1           3.5            1.4           0.2   \n",
       "74    75            6.4           2.9            4.3           1.3   \n",
       "98    99            5.1           2.5            3.0           1.1   \n",
       "\n",
       "             Species  \n",
       "4        Iris-setosa  \n",
       "52   Iris-versicolor  \n",
       "122   Iris-virginica  \n",
       "0        Iris-setosa  \n",
       "74   Iris-versicolor  \n",
       "98   Iris-versicolor  "
      ]
     },
     "execution_count": 12,
     "metadata": {},
     "output_type": "execute_result"
    }
   ],
   "source": [
    "#generating a random sample of values in the iris dataset\n",
    "data.sample(6)"
   ]
  },
  {
   "cell_type": "code",
   "execution_count": 13,
   "id": "a914ef5a",
   "metadata": {},
   "outputs": [],
   "source": [
    "#reanming column names in the iris dataset\n",
    "data.rename(columns = {'SepalLengthCm': 'SepalLength(cm)', 'SepalWidthCm': 'SepalWidth(cm)',\n",
    "             'PetalLengthCm': 'PetalLength(cm)', 'PetalWidthCm': 'PetalWidth(cm)'}, inplace=True)"
   ]
  },
  {
   "cell_type": "code",
   "execution_count": 14,
   "id": "8b101352",
   "metadata": {
    "scrolled": true
   },
   "outputs": [
    {
     "data": {
      "text/html": [
       "<div>\n",
       "<style scoped>\n",
       "    .dataframe tbody tr th:only-of-type {\n",
       "        vertical-align: middle;\n",
       "    }\n",
       "\n",
       "    .dataframe tbody tr th {\n",
       "        vertical-align: top;\n",
       "    }\n",
       "\n",
       "    .dataframe thead th {\n",
       "        text-align: right;\n",
       "    }\n",
       "</style>\n",
       "<table border=\"1\" class=\"dataframe\">\n",
       "  <thead>\n",
       "    <tr style=\"text-align: right;\">\n",
       "      <th></th>\n",
       "      <th>Id</th>\n",
       "      <th>SepalLength(cm)</th>\n",
       "      <th>SepalWidth(cm)</th>\n",
       "      <th>PetalLength(cm)</th>\n",
       "      <th>PetalWidth(cm)</th>\n",
       "      <th>Species</th>\n",
       "    </tr>\n",
       "  </thead>\n",
       "  <tbody>\n",
       "    <tr>\n",
       "      <th>0</th>\n",
       "      <td>1</td>\n",
       "      <td>5.1</td>\n",
       "      <td>3.5</td>\n",
       "      <td>1.4</td>\n",
       "      <td>0.2</td>\n",
       "      <td>Iris-setosa</td>\n",
       "    </tr>\n",
       "    <tr>\n",
       "      <th>1</th>\n",
       "      <td>2</td>\n",
       "      <td>4.9</td>\n",
       "      <td>3.0</td>\n",
       "      <td>1.4</td>\n",
       "      <td>0.2</td>\n",
       "      <td>Iris-setosa</td>\n",
       "    </tr>\n",
       "    <tr>\n",
       "      <th>2</th>\n",
       "      <td>3</td>\n",
       "      <td>4.7</td>\n",
       "      <td>3.2</td>\n",
       "      <td>1.3</td>\n",
       "      <td>0.2</td>\n",
       "      <td>Iris-setosa</td>\n",
       "    </tr>\n",
       "    <tr>\n",
       "      <th>3</th>\n",
       "      <td>4</td>\n",
       "      <td>4.6</td>\n",
       "      <td>3.1</td>\n",
       "      <td>1.5</td>\n",
       "      <td>0.2</td>\n",
       "      <td>Iris-setosa</td>\n",
       "    </tr>\n",
       "    <tr>\n",
       "      <th>4</th>\n",
       "      <td>5</td>\n",
       "      <td>5.0</td>\n",
       "      <td>3.6</td>\n",
       "      <td>1.4</td>\n",
       "      <td>0.2</td>\n",
       "      <td>Iris-setosa</td>\n",
       "    </tr>\n",
       "  </tbody>\n",
       "</table>\n",
       "</div>"
      ],
      "text/plain": [
       "   Id  SepalLength(cm)  SepalWidth(cm)  PetalLength(cm)  PetalWidth(cm)  \\\n",
       "0   1              5.1             3.5              1.4             0.2   \n",
       "1   2              4.9             3.0              1.4             0.2   \n",
       "2   3              4.7             3.2              1.3             0.2   \n",
       "3   4              4.6             3.1              1.5             0.2   \n",
       "4   5              5.0             3.6              1.4             0.2   \n",
       "\n",
       "       Species  \n",
       "0  Iris-setosa  \n",
       "1  Iris-setosa  \n",
       "2  Iris-setosa  \n",
       "3  Iris-setosa  \n",
       "4  Iris-setosa  "
      ]
     },
     "execution_count": 14,
     "metadata": {},
     "output_type": "execute_result"
    }
   ],
   "source": [
    "data.head()"
   ]
  },
  {
   "cell_type": "code",
   "execution_count": 17,
   "id": "f77d6396",
   "metadata": {},
   "outputs": [
    {
     "data": {
      "text/plain": [
       "array([[ 1. ,  5.1,  3.5,  1.4],\n",
       "       [ 2. ,  4.9,  3. ,  1.4],\n",
       "       [ 3. ,  4.7,  3.2,  1.3],\n",
       "       [ 4. ,  4.6,  3.1,  1.5],\n",
       "       [ 5. ,  5. ,  3.6,  1.4],\n",
       "       [ 6. ,  5.4,  3.9,  1.7],\n",
       "       [ 7. ,  4.6,  3.4,  1.4],\n",
       "       [ 8. ,  5. ,  3.4,  1.5],\n",
       "       [ 9. ,  4.4,  2.9,  1.4],\n",
       "       [10. ,  4.9,  3.1,  1.5],\n",
       "       [11. ,  5.4,  3.7,  1.5],\n",
       "       [12. ,  4.8,  3.4,  1.6],\n",
       "       [13. ,  4.8,  3. ,  1.4],\n",
       "       [14. ,  4.3,  3. ,  1.1],\n",
       "       [15. ,  5.8,  4. ,  1.2],\n",
       "       [16. ,  5.7,  4.4,  1.5],\n",
       "       [17. ,  5.4,  3.9,  1.3],\n",
       "       [18. ,  5.1,  3.5,  1.4],\n",
       "       [19. ,  5.7,  3.8,  1.7],\n",
       "       [20. ,  5.1,  3.8,  1.5]])"
      ]
     },
     "execution_count": 17,
     "metadata": {},
     "output_type": "execute_result"
    }
   ],
   "source": [
    "#Finding the optimum number of clusters for k-means classification\n",
    "x = data.iloc[:20, 0:4].values\n",
    "x"
   ]
  },
  {
   "cell_type": "code",
   "execution_count": 18,
   "id": "7bfc7782",
   "metadata": {
    "scrolled": true
   },
   "outputs": [
    {
     "name": "stderr",
     "output_type": "stream",
     "text": [
      "C:\\Users\\clinton\\anaconda3\\lib\\site-packages\\sklearn\\cluster\\_kmeans.py:1036: UserWarning: KMeans is known to have a memory leak on Windows with MKL, when there are less chunks than available threads. You can avoid it by setting the environment variable OMP_NUM_THREADS=1.\n",
      "  warnings.warn(\n"
     ]
    }
   ],
   "source": [
    "#wcss- within cluster sum of squares\n",
    "wcss = []\n",
    "\n",
    "for i in range(1, 11):\n",
    "    kmeans_model = KMeans(n_clusters = i, init=\"k-means++\", n_init = 7, max_iter = 300)\n",
    "    kmeans_model.fit(x)\n",
    "    wcss.append(kmeans_model.inertia_)"
   ]
  },
  {
   "cell_type": "code",
   "execution_count": 19,
   "id": "3a529afc",
   "metadata": {},
   "outputs": [
    {
     "data": {
      "image/png": "[encoded data removed]",
      "text/plain": [
       "<Figure size 576x432 with 1 Axes>"
      ]
     },
     "metadata": {
      "needs_background": "light"
     },
     "output_type": "display_data"
    }
   ],
   "source": [
    "#Visualizing the k-means Elbow method\n",
    "plt.figure(figsize=(8, 6))\n",
    "plt.plot(range(1, 11), wcss)\n",
    "plt.title(\"The Elbow method\")\n",
    "plt.xlabel(\"Number of clusters\")\n",
    "plt.ylabel(\"WCSS\")\n",
    "plt.show()"
   ]
  },
  {
   "cell_type": "markdown",
   "id": "bfcac7f1",
   "metadata": {},
   "source": [
    "> Note: Elbow method - The elbow method describes the sharp increase in the ratio of accuracy after multiple clustering runs and an increase in K(clusters) in each run..\n",
    "Looking closely at the visualization above, we can observe that the elbow curve becomes significant from point '3'.\n",
    "From this, we will choose the number of clusters as **3**"
   ]
  },
  {
   "cell_type": "code",
   "execution_count": 20,
   "id": "2fe44461",
   "metadata": {},
   "outputs": [
    {
     "data": {
      "text/plain": [
       "KMeans(n_clusters=3)"
      ]
     },
     "execution_count": 20,
     "metadata": {},
     "output_type": "execute_result"
    }
   ],
   "source": [
    "#building the model with n_clusters set to 3\n",
    "model = KMeans(n_clusters = 3, init='k-means++', n_init= 10, max_iter=300)\n",
    "model.fit(x)"
   ]
  },
  {
   "cell_type": "code",
   "execution_count": 22,
   "id": "3c64b2d8",
   "metadata": {
    "scrolled": true
   },
   "outputs": [
    {
     "data": {
      "text/plain": [
       "array([0, 0, 0, 0, 0, 0, 0, 1, 1, 1, 1, 1, 1, 1, 2, 2, 2, 2, 2, 2])"
      ]
     },
     "execution_count": 22,
     "metadata": {},
     "output_type": "execute_result"
    }
   ],
   "source": [
    "kmeans_pred = model.predict(x)\n",
    "kmeans_pred"
   ]
  },
  {
   "cell_type": "code",
   "execution_count": 79,
   "id": "465abd77",
   "metadata": {},
   "outputs": [
    {
     "data": {
      "text/plain": [
       "<matplotlib.legend.Legend at 0x1f186cd4730>"
      ]
     },
     "execution_count": 79,
     "metadata": {},
     "output_type": "execute_result"
    },
    {
     "data": {
      "image/png": "[encoded data removed]",
      "text/plain": [
       "<Figure size 432x288 with 1 Axes>"
      ]
     },
     "metadata": {
      "needs_background": "light"
     },
     "output_type": "display_data"
    }
   ],
   "source": [
    "#Visualizing the clusters\n",
    "plt.scatter(x[kmeans_pred == 0, 0], x[kmeans_pred == 0, 1], \n",
    "            s = 100, c = 'red', label = 'Iris-setosa')\n",
    "plt.scatter(x[kmeans_pred == 1, 0], x[kmeans_pred == 1, 1], \n",
    "            s = 100, c = 'blue', label = 'Iris-versicolour')\n",
    "plt.scatter(x[kmeans_pred == 2, 0], x[kmeans_pred == 2, 1],\n",
    "            s = 100, c = 'green', label = 'Iris-virginica')\n",
    "\n",
    "# Plotting the centroids of the clusters\n",
    "plt.scatter(model.cluster_centers_[:, 0], model.cluster_centers_[:,1], \n",
    "            s = 100, c = s'yellow', label = 'Centroids')\n",
    "\n",
    "plt.legend()"
   ]
  }
 ],
 "metadata": {
  "kernelspec": {
   "display_name": "Python 3 (ipykernel)",
   "language": "python",
   "name": "python3"
  },
  "language_info": {
   "codemirror_mode": {
    "name": "ipython",
    "version": 3
   },
   "file_extension": ".py",
   "mimetype": "text/x-python",
   "name": "python",
   "nbconvert_exporter": "python",
   "pygments_lexer": "ipython3",
   "version": "3.9.12"
  }
 },
 "nbformat": 4,
 "nbformat_minor": 5
}
